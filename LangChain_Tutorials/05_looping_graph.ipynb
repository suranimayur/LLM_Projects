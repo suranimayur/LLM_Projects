{
 "cells": [
  {
   "cell_type": "code",
   "execution_count": 81,
   "id": "0bd7d049",
   "metadata": {},
   "outputs": [],
   "source": [
    "from langgraph.graph import StateGraph,END\n",
    "import random\n",
    "from typing import Optional,TypedDict,Dict,List"
   ]
  },
  {
   "cell_type": "code",
   "execution_count": 82,
   "id": "486963d1",
   "metadata": {},
   "outputs": [],
   "source": [
    "class AgentState(TypedDict):\n",
    "    name: str\n",
    "    number: List[int]\n",
    "    counter: int"
   ]
  },
  {
   "cell_type": "code",
   "execution_count": 83,
   "id": "f9d69f00",
   "metadata": {},
   "outputs": [],
   "source": [
    "def greeting_node(state: AgentState) -> AgentState:\n",
    "    \"\"\"Greeting Node which says hi to the person\"\"\"\n",
    "    state[\"name\"] = f\"Hi there, {state[\"name\"]}\"\n",
    "    state[\"counter\"] = 0 \n",
    "\n",
    "    return state\n",
    "\n",
    "def random_node(state: AgentState) -> AgentState:\n",
    "    \"\"\"Generates a random number from 0 to 10\"\"\"\n",
    "    state[\"number\"].append(random.randint(0, 10))\n",
    "    state[\"counter\"] += 1\n",
    "\n",
    "    return state\n",
    "\n",
    "\n",
    "def should_continue(state: AgentState) -> AgentState:\n",
    "    \"\"\"Function to decide what to do next\"\"\"\n",
    "    if state[\"counter\"] < 5:\n",
    "        print(\"ENTERING LOOP\", state[\"counter\"])\n",
    "        return \"loop\"  # Continue looping\n",
    "    else:\n",
    "        return \"exit\"  # Exit the loop\n",
    "    "
   ]
  },
  {
   "cell_type": "code",
   "execution_count": 84,
   "id": "3f0a58d4",
   "metadata": {},
   "outputs": [],
   "source": [
    "# greeting → random → random → random → random → random → END"
   ]
  },
  {
   "cell_type": "code",
   "execution_count": 85,
   "id": "0e05180d",
   "metadata": {},
   "outputs": [],
   "source": [
    "graph = StateGraph(AgentState)\n",
    "\n",
    "graph.add_node(\"greeting\", greeting_node)\n",
    "graph.add_node(\"random\", random_node)\n",
    "graph.add_edge(\"greeting\", \"random\")\n",
    "\n",
    "\n",
    "graph.add_conditional_edges(\n",
    "    \"random\",     # Source node\n",
    "    should_continue, # Action\n",
    "    {\n",
    "        \"loop\": \"random\",  \n",
    "        \"exit\": END          \n",
    "    }\n",
    ")\n",
    "\n",
    "graph.set_entry_point(\"greeting\")\n",
    "\n",
    "app = graph.compile()"
   ]
  },
  {
   "cell_type": "code",
   "execution_count": 86,
   "id": "8eb3c615",
   "metadata": {},
   "outputs": [
    {
     "data": {
      "image/png": "[encoded data removed]",
      "text/plain": [
       "<IPython.core.display.Image object>"
      ]
     },
     "metadata": {},
     "output_type": "display_data"
    }
   ],
   "source": [
    "from IPython.display import Image, display\n",
    "display(Image(app.get_graph().draw_mermaid_png()))"
   ]
  },
  {
   "cell_type": "code",
   "execution_count": 87,
   "id": "51f34a31",
   "metadata": {},
   "outputs": [
    {
     "name": "stdout",
     "output_type": "stream",
     "text": [
      "ENTERING LOOP 1\n",
      "ENTERING LOOP 2\n",
      "ENTERING LOOP 3\n",
      "ENTERING LOOP 4\n"
     ]
    },
    {
     "data": {
      "text/plain": [
       "{'name': 'Hi there, Vaibhav', 'number': [1, 3, 2, 8, 5], 'counter': 5}"
      ]
     },
     "execution_count": 87,
     "metadata": {},
     "output_type": "execute_result"
    }
   ],
   "source": [
    "app.invoke({\"name\":\"Vaibhav\", \"number\":[], \"counter\":-100})"
   ]
  },
  {
   "cell_type": "code",
   "execution_count": 88,
   "id": "e16dd019",
   "metadata": {},
   "outputs": [],
   "source": [
    "## Exercise 5"
   ]
  },
  {
   "cell_type": "code",
   "execution_count": 89,
   "id": "5bcca150",
   "metadata": {},
   "outputs": [
    {
     "data": {
      "text/plain": [
       "' \\nYour task \\n\\nMake a graph on right! You need to implement an Automatic Higher or Lower Game\\n\\nSet the brounds to between 1 to 20. The graph has to keep guessing (max number of guess is 7)\\nwhere if guess is correct, then it stops.\\n\\nBut if now we keep looping untill we hit the max limit of 7.\\n\\nEach time a number is guessed, the hint node should say higher or lower and graph\\nshould account for this information and guess the next guess accordingly.\\n\\nInput: {\"player_name\":\"Student\",\"guesses\":[],\"attempts\": 0, \"lower_bound\":1,\"upper_bound\":20}\\nHint: It will need to adjust its bounds after every guess based on hint provided by hint node.\\n\\nFor example, if the guess is higher than the number, then the hint node will say \"lower\" and the graph\\nshould account for this information and guess the next guess accordingly.\\n\\n\\n\\n'"
      ]
     },
     "execution_count": 89,
     "metadata": {},
     "output_type": "execute_result"
    }
   ],
   "source": [
    "\"\"\" \n",
    "Your task \n",
    "\n",
    "Make a graph on right! You need to implement an Automatic Higher or Lower Game\n",
    "\n",
    "Set the brounds to between 1 to 20. The graph has to keep guessing (max number of guess is 7)\n",
    "where if guess is correct, then it stops.\n",
    "\n",
    "But if now we keep looping untill we hit the max limit of 7.\n",
    "\n",
    "Each time a number is guessed, the hint node should say higher or lower and graph\n",
    "should account for this information and guess the next guess accordingly.\n",
    "\n",
    "Input: {\"player_name\":\"Student\",\"guesses\":[],\"attempts\": 0, \"lower_bound\":1,\"upper_bound\":20}\n",
    "Hint: It will need to adjust its bounds after every guess based on hint provided by hint node.\n",
    "\n",
    "For example, if the guess is higher than the number, then the hint node will say \"lower\" and the graph\n",
    "should account for this information and guess the next guess accordingly.\n",
    "\n",
    "\n",
    "\n",
    "\"\"\""
   ]
  },
  {
   "cell_type": "code",
   "execution_count": 90,
   "id": "fe1219c7",
   "metadata": {},
   "outputs": [],
   "source": [
    "from langgraph.graph import  StateGraph,END \n",
    "import random\n",
    "from typing import Dict, List,TypedDict"
   ]
  },
  {
   "cell_type": "code",
   "execution_count": 91,
   "id": "977ec8e6",
   "metadata": {},
   "outputs": [],
   "source": [
    "class GameState(TypedDict):\n",
    "    player_name: str\n",
    "    target_number: int \n",
    "    guesses: List[int]\n",
    "    attempts: int\n",
    "    lower_bound: int\n",
    "    upper_bound: int"
   ]
  },
  {
   "cell_type": "code",
   "execution_count": 92,
   "id": "c37785da",
   "metadata": {},
   "outputs": [],
   "source": [
    "def setup_node(state: GameState) -> GameState:\n",
    "    \"\"\"Initialize the game with a random target number\"\"\"\n",
    "    state[\"player_name\"] = f\"Welcome, {state['player_name']}!\"\n",
    "    state[\"target_number\"] = random.randint(1, 20)\n",
    "    state[\"guesses\"] = []\n",
    "    state[\"attempts\"] = 0\n",
    "    state[\"hint\"] = \"Game started! Try to guess the number.\"\n",
    "    state[\"lower_bound\"] = 1 \n",
    "    state[\"upper_bound\"] = 20 \n",
    "    print(f\"{state['player_name']} The game has begun. I'm thinking of a number between 1 and 20.\")\n",
    "    return state"
   ]
  },
  {
   "cell_type": "code",
   "execution_count": 93,
   "id": "b96b8bf4",
   "metadata": {},
   "outputs": [],
   "source": [
    "def guess_node(state: GameState) -> GameState:\n",
    "    \"\"\"Generate a smarter guess based on previous hints\"\"\"\n",
    "    \n",
    "    possible_guesses = [i for i in range(state[\"lower_bound\"], state[\"upper_bound\"] + 1) if i not in state[\"guesses\"]]\n",
    "    if possible_guesses:\n",
    "        guess = random.choice(possible_guesses)\n",
    "    else:\n",
    "        \n",
    "        guess = random.randint(state[\"lower_bound\"], state[\"upper_bound\"])\n",
    "    \n",
    "    state[\"guesses\"].append(guess)\n",
    "    state[\"attempts\"] += 1\n",
    "    print(f\"Attempt {state['attempts']}: Guessing {guess} (Current range: {state['lower_bound']}-{state['upper_bound']})\")\n",
    "    return state"
   ]
  },
  {
   "cell_type": "code",
   "execution_count": 94,
   "id": "efb05edf",
   "metadata": {},
   "outputs": [],
   "source": [
    "def hint_node(state: GameState) -> GameState:\n",
    "    \"\"\"Here we provide a hint based on the last guess and update the bounds\"\"\"\n",
    "    latest_guess = state[\"guesses\"][-1]\n",
    "    target = state[\"target_number\"]\n",
    "    \n",
    "    if latest_guess < target:\n",
    "        state[\"hint\"] = f\"The number {latest_guess} is too low. Try higher!\"\n",
    "        \n",
    "        state[\"lower_bound\"] = max(state[\"lower_bound\"], latest_guess + 1)\n",
    "        print(f\"Hint: {state['hint']}\")\n",
    "        \n",
    "    elif latest_guess > target:\n",
    "        state[\"hint\"] = f\"The number {latest_guess} is too high. Try lower!\"\n",
    "      \n",
    "        state[\"upper_bound\"] = min(state[\"upper_bound\"], latest_guess - 1)\n",
    "        print(f\"Hint: {state['hint']}\")\n",
    "    else:\n",
    "        state[\"hint\"] = f\"Correct! You found the number {target} in {state['attempts']} attempts.\"\n",
    "        print(f\"Success! {state['hint']}\")\n",
    "    \n",
    "    return state"
   ]
  },
  {
   "cell_type": "code",
   "execution_count": 95,
   "id": "29b690e1",
   "metadata": {},
   "outputs": [],
   "source": [
    "def should_continue(state: GameState) -> str:\n",
    "    \"\"\"Determine if we should continue guessing or end the game\"\"\"\n",
    "    \n",
    "    # There are 2 end conditions - either 7 is reached or the correct number is guessed\n",
    "    \n",
    "    latest_guess = state[\"guesses\"][-1]\n",
    "    if latest_guess == state[\"target_number\"]:\n",
    "        print(f\"GAME OVER: Number found!\")\n",
    "        return \"end\"\n",
    "    elif state[\"attempts\"] >= 7:\n",
    "        print(f\"GAME OVER: Maximum attempts reached! The number was {state['target_number']}\")\n",
    "        return \"end\"\n",
    "    else:\n",
    "        print(f\"CONTINUING: {state['attempts']}/7 attempts used\")\n",
    "        return \"continue\""
   ]
  },
  {
   "cell_type": "code",
   "execution_count": 96,
   "id": "bb82ba16",
   "metadata": {},
   "outputs": [],
   "source": [
    "graph = StateGraph(GameState)\n",
    "graph.add_node(\"setup\", setup_node)\n",
    "graph.add_node(\"guess\", guess_node)\n",
    "graph.add_node(\"hint_node\", hint_node)  \n",
    "\n",
    "\n",
    "graph.add_edge(\"setup\", \"guess\")\n",
    "graph.add_edge(\"guess\", \"hint_node\")  \n",
    "\n",
    "\n",
    "graph.add_conditional_edges(\n",
    "    \"hint_node\", \n",
    "    should_continue,\n",
    "    {\n",
    "        \"continue\": \"guess\",\n",
    "        \"end\": END\n",
    "    }\n",
    ")\n",
    "\n",
    "graph.set_entry_point(\"setup\")\n",
    "app = graph.compile()"
   ]
  },
  {
   "cell_type": "code",
   "execution_count": 97,
   "id": "ac9e3dbe",
   "metadata": {},
   "outputs": [
    {
     "data": {
      "image/png": "[encoded data removed]",
      "text/plain": [
       "<IPython.core.display.Image object>"
      ]
     },
     "metadata": {},
     "output_type": "display_data"
    }
   ],
   "source": [
    "from IPython.display import Image, display\n",
    "display(Image(app.get_graph().draw_mermaid_png()))"
   ]
  },
  {
   "cell_type": "code",
   "execution_count": 98,
   "id": "b973bbb0",
   "metadata": {},
   "outputs": [
    {
     "name": "stdout",
     "output_type": "stream",
     "text": [
      "Welcome, Student! The game has begun. I'm thinking of a number between 1 and 20.\n",
      "Attempt 1: Guessing 3 (Current range: 1-20)\n",
      "Hint: The number 3 is too low. Try higher!\n",
      "CONTINUING: 1/7 attempts used\n",
      "Attempt 2: Guessing 12 (Current range: 4-20)\n",
      "Hint: The number 12 is too low. Try higher!\n",
      "CONTINUING: 2/7 attempts used\n",
      "Attempt 3: Guessing 17 (Current range: 13-20)\n",
      "Hint: The number 17 is too high. Try lower!\n",
      "CONTINUING: 3/7 attempts used\n",
      "Attempt 4: Guessing 15 (Current range: 13-16)\n",
      "Hint: The number 15 is too high. Try lower!\n",
      "CONTINUING: 4/7 attempts used\n",
      "Attempt 5: Guessing 14 (Current range: 13-14)\n",
      "Hint: The number 14 is too high. Try lower!\n",
      "CONTINUING: 5/7 attempts used\n",
      "Attempt 6: Guessing 13 (Current range: 13-13)\n",
      "Success! Correct! You found the number 13 in 6 attempts.\n",
      "GAME OVER: Number found!\n"
     ]
    }
   ],
   "source": [
    "result = app.invoke({\"player_name\": \"Student\", \"guesses\": [], \"attempts\": 0, \"lower_bound\": 1, \"upper_bound\": 20})"
   ]
  },
  {
   "cell_type": "code",
   "execution_count": null,
   "id": "466c5285",
   "metadata": {},
   "outputs": [],
   "source": [
    "1:29"
   ]
  },
  {
   "cell_type": "code",
   "execution_count": null,
   "id": "3f40c7d4",
   "metadata": {},
   "outputs": [],
   "source": []
  },
  {
   "cell_type": "code",
   "execution_count": null,
   "id": "9e6fbc6f",
   "metadata": {},
   "outputs": [],
   "source": []
  },
  {
   "cell_type": "code",
   "execution_count": null,
   "id": "53bc7c57",
   "metadata": {},
   "outputs": [],
   "source": []
  },
  {
   "cell_type": "code",
   "execution_count": null,
   "id": "d14ef0c2",
   "metadata": {},
   "outputs": [],
   "source": []
  },
  {
   "cell_type": "code",
   "execution_count": null,
   "id": "9f985ac7",
   "metadata": {},
   "outputs": [],
   "source": []
  },
  {
   "cell_type": "code",
   "execution_count": null,
   "id": "9df83224",
   "metadata": {},
   "outputs": [],
   "source": []
  },
  {
   "cell_type": "code",
   "execution_count": null,
   "id": "163dbb80",
   "metadata": {},
   "outputs": [],
   "source": []
  },
  {
   "cell_type": "code",
   "execution_count": null,
   "id": "83fe07af",
   "metadata": {},
   "outputs": [],
   "source": []
  },
  {
   "cell_type": "code",
   "execution_count": null,
   "id": "84681436",
   "metadata": {},
   "outputs": [],
   "source": []
  },
  {
   "cell_type": "code",
   "execution_count": null,
   "id": "920b4b50",
   "metadata": {},
   "outputs": [],
   "source": []
  },
  {
   "cell_type": "code",
   "execution_count": null,
   "id": "697d1bed",
   "metadata": {},
   "outputs": [],
   "source": []
  },
  {
   "cell_type": "code",
   "execution_count": null,
   "id": "2a07a3cb",
   "metadata": {},
   "outputs": [],
   "source": []
  },
  {
   "cell_type": "code",
   "execution_count": null,
   "id": "f69091ac",
   "metadata": {},
   "outputs": [],
   "source": []
  },
  {
   "cell_type": "code",
   "execution_count": null,
   "id": "203b85c2",
   "metadata": {},
   "outputs": [],
   "source": []
  },
  {
   "cell_type": "code",
   "execution_count": null,
   "id": "ea3e0fea",
   "metadata": {},
   "outputs": [],
   "source": []
  }
 ],
 "metadata": {
  "kernelspec": {
   "display_name": ".venv",
   "language": "python",
   "name": "python3"
  },
  "language_info": {
   "codemirror_mode": {
    "name": "ipython",
    "version": 3
   },
   "file_extension": ".py",
   "mimetype": "text/x-python",
   "name": "python",
   "nbconvert_exporter": "python",
   "pygments_lexer": "ipython3",
   "version": "3.13.3"
  }
 },
 "nbformat": 4,
 "nbformat_minor": 5
}
