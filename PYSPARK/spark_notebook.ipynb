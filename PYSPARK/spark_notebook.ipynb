{
 "cells": [
  {
   "cell_type": "code",
   "execution_count": 1,
   "id": "fdcb6faf",
   "metadata": {},
   "outputs": [
    {
     "ename": "ModuleNotFoundError",
     "evalue": "No module named 'typing.io'; 'typing' is not a package",
     "output_type": "error",
     "traceback": [
      "\u001b[31m---------------------------------------------------------------------------\u001b[39m",
      "\u001b[31mModuleNotFoundError\u001b[39m                       Traceback (most recent call last)",
      "\u001b[36mCell\u001b[39m\u001b[36m \u001b[39m\u001b[32mIn[1]\u001b[39m\u001b[32m, line 1\u001b[39m\n\u001b[32m----> \u001b[39m\u001b[32m1\u001b[39m \u001b[38;5;28;01mfrom\u001b[39;00m\u001b[38;5;250m \u001b[39m\u001b[34;01mpyspark\u001b[39;00m\u001b[34;01m.\u001b[39;00m\u001b[34;01msql\u001b[39;00m\u001b[38;5;250m \u001b[39m\u001b[38;5;28;01mimport\u001b[39;00m SparkSession\n",
      "\u001b[36mFile \u001b[39m\u001b[32md:\\Python_Projects\\LLM_Projects\\LLM_Projects\\.venv\\Lib\\site-packages\\pyspark\\__init__.py:60\u001b[39m\n\u001b[32m     58\u001b[39m \u001b[38;5;28;01mfrom\u001b[39;00m\u001b[38;5;250m \u001b[39m\u001b[34;01mpyspark\u001b[39;00m\u001b[34;01m.\u001b[39;00m\u001b[34;01mstoragelevel\u001b[39;00m\u001b[38;5;250m \u001b[39m\u001b[38;5;28;01mimport\u001b[39;00m StorageLevel\n\u001b[32m     59\u001b[39m \u001b[38;5;28;01mfrom\u001b[39;00m\u001b[38;5;250m \u001b[39m\u001b[34;01mpyspark\u001b[39;00m\u001b[34;01m.\u001b[39;00m\u001b[34;01maccumulators\u001b[39;00m\u001b[38;5;250m \u001b[39m\u001b[38;5;28;01mimport\u001b[39;00m Accumulator, AccumulatorParam\n\u001b[32m---> \u001b[39m\u001b[32m60\u001b[39m \u001b[38;5;28;01mfrom\u001b[39;00m\u001b[38;5;250m \u001b[39m\u001b[34;01mpyspark\u001b[39;00m\u001b[34;01m.\u001b[39;00m\u001b[34;01mbroadcast\u001b[39;00m\u001b[38;5;250m \u001b[39m\u001b[38;5;28;01mimport\u001b[39;00m Broadcast\n\u001b[32m     61\u001b[39m \u001b[38;5;28;01mfrom\u001b[39;00m\u001b[38;5;250m \u001b[39m\u001b[34;01mpyspark\u001b[39;00m\u001b[34;01m.\u001b[39;00m\u001b[34;01mserializers\u001b[39;00m\u001b[38;5;250m \u001b[39m\u001b[38;5;28;01mimport\u001b[39;00m MarshalSerializer, CPickleSerializer\n\u001b[32m     62\u001b[39m \u001b[38;5;28;01mfrom\u001b[39;00m\u001b[38;5;250m \u001b[39m\u001b[34;01mpyspark\u001b[39;00m\u001b[34;01m.\u001b[39;00m\u001b[34;01mtaskcontext\u001b[39;00m\u001b[38;5;250m \u001b[39m\u001b[38;5;28;01mimport\u001b[39;00m TaskContext, BarrierTaskContext, BarrierTaskInfo\n",
      "\u001b[36mFile \u001b[39m\u001b[32md:\\Python_Projects\\LLM_Projects\\LLM_Projects\\.venv\\Lib\\site-packages\\pyspark\\broadcast.py:38\u001b[39m\n\u001b[32m     23\u001b[39m \u001b[38;5;28;01mimport\u001b[39;00m\u001b[38;5;250m \u001b[39m\u001b[34;01mpickle\u001b[39;00m\n\u001b[32m     24\u001b[39m \u001b[38;5;28;01mfrom\u001b[39;00m\u001b[38;5;250m \u001b[39m\u001b[34;01mtyping\u001b[39;00m\u001b[38;5;250m \u001b[39m\u001b[38;5;28;01mimport\u001b[39;00m (\n\u001b[32m     25\u001b[39m     overload,\n\u001b[32m     26\u001b[39m     Any,\n\u001b[32m   (...)\u001b[39m\u001b[32m     36\u001b[39m     Union,\n\u001b[32m     37\u001b[39m )\n\u001b[32m---> \u001b[39m\u001b[32m38\u001b[39m \u001b[38;5;28;01mfrom\u001b[39;00m\u001b[38;5;250m \u001b[39m\u001b[34;01mtyping\u001b[39;00m\u001b[34;01m.\u001b[39;00m\u001b[34;01mio\u001b[39;00m\u001b[38;5;250m \u001b[39m\u001b[38;5;28;01mimport\u001b[39;00m BinaryIO  \u001b[38;5;66;03m# type: ignore[import]\u001b[39;00m\n\u001b[32m     40\u001b[39m \u001b[38;5;28;01mfrom\u001b[39;00m\u001b[38;5;250m \u001b[39m\u001b[34;01mpyspark\u001b[39;00m\u001b[34;01m.\u001b[39;00m\u001b[34;01mjava_gateway\u001b[39;00m\u001b[38;5;250m \u001b[39m\u001b[38;5;28;01mimport\u001b[39;00m local_connect_and_auth\n\u001b[32m     41\u001b[39m \u001b[38;5;28;01mfrom\u001b[39;00m\u001b[38;5;250m \u001b[39m\u001b[34;01mpyspark\u001b[39;00m\u001b[34;01m.\u001b[39;00m\u001b[34;01mserializers\u001b[39;00m\u001b[38;5;250m \u001b[39m\u001b[38;5;28;01mimport\u001b[39;00m ChunkedStream, pickle_protocol\n",
      "\u001b[31mModuleNotFoundError\u001b[39m: No module named 'typing.io'; 'typing' is not a package"
     ]
    }
   ],
   "source": [
    "from pyspark.sql import SparkSession"
   ]
  },
  {
   "cell_type": "code",
   "execution_count": 4,
   "id": "68186bcf",
   "metadata": {},
   "outputs": [
    {
     "ename": "TypeError",
     "evalue": "'JavaPackage' object is not callable",
     "output_type": "error",
     "traceback": [
      "\u001b[31m---------------------------------------------------------------------------\u001b[39m",
      "\u001b[31mTypeError\u001b[39m                                 Traceback (most recent call last)",
      "\u001b[36mCell\u001b[39m\u001b[36m \u001b[39m\u001b[32mIn[4]\u001b[39m\u001b[32m, line 3\u001b[39m\n\u001b[32m      1\u001b[39m spark = \u001b[43mSparkSession\u001b[49m\u001b[43m.\u001b[49m\u001b[43mbuilder\u001b[49m\u001b[43m \u001b[49m\u001b[43m\\\u001b[49m\n\u001b[32m      2\u001b[39m \u001b[43m    \u001b[49m\u001b[43m.\u001b[49m\u001b[43mappName\u001b[49m\u001b[43m(\u001b[49m\u001b[33;43m\"\u001b[39;49m\u001b[33;43mExampleApp\u001b[39;49m\u001b[33;43m\"\u001b[39;49m\u001b[43m)\u001b[49m\u001b[43m \u001b[49m\u001b[43m\\\u001b[49m\n\u001b[32m----> \u001b[39m\u001b[32m3\u001b[39m \u001b[43m    \u001b[49m\u001b[43m.\u001b[49m\u001b[43mgetOrCreate\u001b[49m\u001b[43m(\u001b[49m\u001b[43m)\u001b[49m\n",
      "\u001b[36mFile \u001b[39m\u001b[32md:\\Python_Projects\\LLM_Projects\\LLM_Projects\\.venv\\Lib\\site-packages\\pyspark\\sql\\session.py:559\u001b[39m, in \u001b[36mgetOrCreate\u001b[39m\u001b[34m(self)\u001b[39m\n\u001b[32m    555\u001b[39m \u001b[38;5;129m@classproperty\u001b[39m\n\u001b[32m    556\u001b[39m \u001b[38;5;28;01mdef\u001b[39;00m\u001b[38;5;250m \u001b[39m\u001b[34mbuilder\u001b[39m(\u001b[38;5;28mcls\u001b[39m) -> Builder:\n\u001b[32m    557\u001b[39m \u001b[38;5;250m    \u001b[39m\u001b[33;03m\"\"\"Creates a :class:`Builder` for constructing a :class:`SparkSession`.\u001b[39;00m\n\u001b[32m    558\u001b[39m \n\u001b[32m--> \u001b[39m\u001b[32m559\u001b[39m \u001b[33;03m    .. versionchanged:: 3.4.0\u001b[39;00m\n\u001b[32m    560\u001b[39m \u001b[33;03m        Supports Spark Connect.\u001b[39;00m\n\u001b[32m    561\u001b[39m \u001b[33;03m    \"\"\"\u001b[39;00m\n\u001b[32m    562\u001b[39m     \u001b[38;5;28;01mreturn\u001b[39;00m \u001b[38;5;28mcls\u001b[39m.Builder()\n",
      "\u001b[36mFile \u001b[39m\u001b[32md:\\Python_Projects\\LLM_Projects\\LLM_Projects\\.venv\\Lib\\site-packages\\pyspark\\sql\\session.py:635\u001b[39m, in \u001b[36m__init__\u001b[39m\u001b[34m(self, sparkContext, jsparkSession, options)\u001b[39m\n\u001b[32m    626\u001b[39m \u001b[38;5;28;01mdef\u001b[39;00m\u001b[38;5;250m \u001b[39m\u001b[34mnewSession\u001b[39m(\u001b[38;5;28mself\u001b[39m) -> \u001b[33m\"\u001b[39m\u001b[33mSparkSession\u001b[39m\u001b[33m\"\u001b[39m:\n\u001b[32m    627\u001b[39m \u001b[38;5;250m    \u001b[39m\u001b[33;03m\"\"\"\u001b[39;00m\n\u001b[32m    628\u001b[39m \u001b[33;03m    Returns a new :class:`SparkSession` as new session, that has separate SQLConf,\u001b[39;00m\n\u001b[32m    629\u001b[39m \u001b[33;03m    registered temporary views and UDFs, but shared :class:`SparkContext` and\u001b[39;00m\n\u001b[32m    630\u001b[39m \u001b[33;03m    table cache.\u001b[39;00m\n\u001b[32m    631\u001b[39m \n\u001b[32m    632\u001b[39m \u001b[33;03m    .. versionadded:: 2.0.0\u001b[39;00m\n\u001b[32m    633\u001b[39m \n\u001b[32m    634\u001b[39m \u001b[33;03m    Returns\u001b[39;00m\n\u001b[32m--> \u001b[39m\u001b[32m635\u001b[39m \u001b[33;03m    -------\u001b[39;00m\n\u001b[32m    636\u001b[39m \u001b[33;03m    :class:`SparkSession`\u001b[39;00m\n\u001b[32m    637\u001b[39m \u001b[33;03m        Spark session if an active session exists for the current thread\u001b[39;00m\n\u001b[32m    638\u001b[39m \n\u001b[32m    639\u001b[39m \u001b[33;03m    Examples\u001b[39;00m\n\u001b[32m    640\u001b[39m \u001b[33;03m    --------\u001b[39;00m\n\u001b[32m    641\u001b[39m \u001b[33;03m    >>> spark.newSession()\u001b[39;00m\n\u001b[32m    642\u001b[39m \u001b[33;03m    <...SparkSession object ...>\u001b[39;00m\n\u001b[32m    643\u001b[39m \u001b[33;03m    \"\"\"\u001b[39;00m\n\u001b[32m    644\u001b[39m     \u001b[38;5;28;01mreturn\u001b[39;00m \u001b[38;5;28mself\u001b[39m.\u001b[34m__class__\u001b[39m(\u001b[38;5;28mself\u001b[39m._sc, \u001b[38;5;28mself\u001b[39m._jsparkSession.newSession())\n",
      "\u001b[31mTypeError\u001b[39m: 'JavaPackage' object is not callable"
     ]
    }
   ],
   "source": [
    "spark = SparkSession.builder \\\n",
    "    .appName(\"ExampleApp\") \\\n",
    "    .getOrCreate()"
   ]
  },
  {
   "cell_type": "code",
   "execution_count": null,
   "id": "e622120c",
   "metadata": {},
   "outputs": [],
   "source": []
  },
  {
   "cell_type": "code",
   "execution_count": null,
   "id": "0d0fc1ec",
   "metadata": {},
   "outputs": [],
   "source": []
  },
  {
   "cell_type": "code",
   "execution_count": null,
   "id": "da042a46",
   "metadata": {},
   "outputs": [],
   "source": []
  },
  {
   "cell_type": "code",
   "execution_count": null,
   "id": "b7b4e7e0",
   "metadata": {},
   "outputs": [],
   "source": []
  }
 ],
 "metadata": {
  "kernelspec": {
   "display_name": ".venv",
   "language": "python",
   "name": "python3"
  },
  "language_info": {
   "codemirror_mode": {
    "name": "ipython",
    "version": 3
   },
   "file_extension": ".py",
   "mimetype": "text/x-python",
   "name": "python",
   "nbconvert_exporter": "python",
   "pygments_lexer": "ipython3",
   "version": "3.13.3"
  }
 },
 "nbformat": 4,
 "nbformat_minor": 5
}
